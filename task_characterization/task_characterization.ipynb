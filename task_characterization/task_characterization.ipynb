{
 "cells": [
  {
   "cell_type": "code",
   "execution_count": 1,
   "id": "99342760",
   "metadata": {},
   "outputs": [
    {
     "name": "stdout",
     "output_type": "stream",
     "text": [
      "Requirement already satisfied: openpyxl in ./ven/lib/python3.9/site-packages (3.0.10)\n",
      "Requirement already satisfied: et-xmlfile in ./ven/lib/python3.9/site-packages (from openpyxl) (1.1.0)\n",
      "Requirement already satisfied: pandas in ./ven/lib/python3.9/site-packages (1.5.2)\n",
      "Requirement already satisfied: python-dateutil>=2.8.1 in ./ven/lib/python3.9/site-packages (from pandas) (2.8.2)\n",
      "Requirement already satisfied: numpy>=1.20.3; python_version < \"3.10\" in ./ven/lib/python3.9/site-packages (from pandas) (1.24.1)\n",
      "Requirement already satisfied: pytz>=2020.1 in ./ven/lib/python3.9/site-packages (from pandas) (2022.7)\n",
      "Requirement already satisfied: six>=1.5 in ./ven/lib/python3.9/site-packages (from python-dateutil>=2.8.1->pandas) (1.16.0)\n"
     ]
    }
   ],
   "source": [
    "!pip install openpyxl\n",
    "!pip install pandas"
   ]
  },
  {
   "cell_type": "markdown",
   "id": "91883488",
   "metadata": {},
   "source": [
    "## Reading the datasets and create generic functions"
   ]
  },
  {
   "cell_type": "code",
   "execution_count": 2,
   "id": "de7b6665",
   "metadata": {},
   "outputs": [
    {
     "name": "stdout",
     "output_type": "stream",
     "text": [
      "data:task40\n",
      "data:task160\n",
      "data:task80\n",
      "data:task240\n",
      "data:task280\n",
      "data:task120\n",
      "data:task200\n"
     ]
    }
   ],
   "source": [
    "import pandas\n",
    "import os\n",
    "\n",
    "subfolder = 'dataset'\n",
    "path = os.getcwd() # Get current working directory\n",
    "path = os.path.join(path, subfolder)\n",
    "ext = '.xlsx' # Select your file delimiter\n",
    "file_dict = {} # Create an empty dict\n",
    "xls_files = [i for i in os.listdir(path) if os.path.splitext(i)[1] == ext]\n",
    "sheet_names = ['TaskDetails','NodeDetails','ExecutionTable','CostTable']\n",
    "# Iterate over your txt files\n",
    "def readFileNames():\n",
    "    for f in xls_files:\n",
    "        key = f.replace(ext,'')\n",
    "        file_dict[key]=subfolder+'/'+f\n",
    "        print('data:'+key)\n",
    "#read the filenames of datasets\n",
    "readFileNames()\n",
    "def getDataFrames(data):\n",
    "    file = file_dict[data]\n",
    "    dataFrames = {}\n",
    "    for name in sheet_names:\n",
    "        dataFrames[name]=pandas.read_excel(file, sheet_name=name)\n",
    "    return dataFrames"
   ]
  },
  {
   "cell_type": "markdown",
   "id": "f4b062d7",
   "metadata": {},
   "source": [
    "## Retrieving Data of specific data"
   ]
  },
  {
   "cell_type": "code",
   "execution_count": 3,
   "id": "90b07a0b",
   "metadata": {},
   "outputs": [
    {
     "name": "stdout",
     "output_type": "stream",
     "text": [
      "   Unnamed: 0  CPU rate (MIPS)  CPU usage cost  Memory usage cost  \\\n",
      "3      Node_4             1097          0.2464            0.02723   \n",
      "4      Node_5              873          0.1360            0.01474   \n",
      "5      Node_6             1054          0.1142            0.01232   \n",
      "6      Node_7             1420          0.3196            0.01802   \n",
      "7      Node_8             1106          0.3844            0.01195   \n",
      "8      Node_9             1479          0.1576            0.02440   \n",
      "9     Node_10              645          0.2805            0.01828   \n",
      "10    Node_11              963          0.1267            0.02263   \n",
      "11    Node_12              635          0.2751            0.01915   \n",
      "12    Node_13             1141          0.2779            0.02738   \n",
      "\n",
      "    Bandwidth usage cost  \n",
      "3                 0.0105  \n",
      "4                 0.0180  \n",
      "5                 0.0183  \n",
      "6                 0.0113  \n",
      "7                 0.0181  \n",
      "8                 0.0129  \n",
      "9                 0.0115  \n",
      "10                0.0135  \n",
      "11                0.0188  \n",
      "12                0.0121  \n"
     ]
    }
   ],
   "source": [
    "tasks = getDataFrames('task40')\n",
    "#Node Characterization\n",
    "#cloud_nodes = []\n",
    "fog_nodes = tasks['NodeDetails'][(tasks['NodeDetails']['CPU rate (MIPS)'] >= 500) & (tasks['NodeDetails']['CPU rate (MIPS)']<1500)]\n",
    "print(fog_nodes)"
   ]
  },
  {
   "cell_type": "code",
   "execution_count": 4,
   "id": "f607ff04",
   "metadata": {},
   "outputs": [],
   "source": [
    "from math import *\n",
    "\n",
    "#def lcm(a, b):\n",
    "#    return a * b // gcd(a, b)\n",
    "\n",
    "#import math\n",
    "\n",
    "def lcm_float(a, b, precision):\n",
    "    a = round(a, precision)\n",
    "    b = round(b, precision)\n",
    "    return lcm(int(a*10**precision), int(b*10**precision))/10**precision\n",
    "\n",
    "\n"
   ]
  },
  {
   "cell_type": "code",
   "execution_count": 5,
   "id": "ab49b6bb",
   "metadata": {},
   "outputs": [
    {
     "data": {
      "text/plain": [
       "60"
      ]
     },
     "execution_count": 5,
     "metadata": {},
     "output_type": "execute_result"
    }
   ],
   "source": [
    "lcm(10,12)"
   ]
  },
  {
   "cell_type": "code",
   "execution_count": 6,
   "id": "44fd284b",
   "metadata": {},
   "outputs": [
    {
     "data": {
      "text/plain": [
       "123.0"
      ]
     },
     "execution_count": 6,
     "metadata": {},
     "output_type": "execute_result"
    }
   ],
   "source": [
    "lcm_float(1,12.3,2)"
   ]
  },
  {
   "cell_type": "code",
   "execution_count": null,
   "id": "7e2da86f",
   "metadata": {},
   "outputs": [],
   "source": []
  }
 ],
 "metadata": {
  "kernelspec": {
   "display_name": "Python 3 (ipykernel)",
   "language": "python",
   "name": "python3"
  },
  "language_info": {
   "codemirror_mode": {
    "name": "ipython",
    "version": 3
   },
   "file_extension": ".py",
   "mimetype": "text/x-python",
   "name": "python",
   "nbconvert_exporter": "python",
   "pygments_lexer": "ipython3",
   "version": "3.9.16"
  }
 },
 "nbformat": 4,
 "nbformat_minor": 5
}
